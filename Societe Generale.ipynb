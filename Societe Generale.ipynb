{
 "cells": [
  {
   "cell_type": "code",
   "execution_count": 36,
   "metadata": {
    "collapsed": false
   },
   "outputs": [],
   "source": [
    "#Import Libraries\n",
    "import pandas as pd\n",
    "import numpy as np\n",
    "from sklearn.preprocessing import LabelEncoder\n",
    "from sklearn.model_selection import cross_val_score\n",
    "from sklearn.ensemble import RandomForestRegressor\n",
    "import xgboost as xgb\n",
    "from sklearn.metrics import mean_squared_error\n",
    "from sklearn.linear_model import Lasso\n",
    "from keras.models import Sequential\n",
    "from keras.layers import Dense\n",
    "from keras.wrappers.scikit_learn import KerasRegressor\n",
    "from sklearn.preprocessing import StandardScaler"
   ]
  },
  {
   "cell_type": "code",
   "execution_count": 3,
   "metadata": {
    "collapsed": true
   },
   "outputs": [],
   "source": [
    "#Load Dataset\n",
    "train = pd.read_csv('train.csv')\n",
    "test = pd.read_csv('test.csv')"
   ]
  },
  {
   "cell_type": "code",
   "execution_count": 4,
   "metadata": {
    "collapsed": false
   },
   "outputs": [
    {
     "name": "stdout",
     "output_type": "stream",
     "text": [
      "<class 'pandas.core.frame.DataFrame'>\n",
      "RangeIndex: 9366 entries, 0 to 9365\n",
      "Data columns (total 18 columns):\n",
      "portfolio_id      9366 non-null object\n",
      "desk_id           5701 non-null object\n",
      "office_id         9366 non-null object\n",
      "pf_category       9366 non-null object\n",
      "start_date        9366 non-null int64\n",
      "sold              9364 non-null float64\n",
      "country_code      9366 non-null object\n",
      "euribor_rate      9366 non-null float64\n",
      "currency          9366 non-null object\n",
      "libor_rate        8892 non-null float64\n",
      "bought            9364 non-null float64\n",
      "creation_date     9366 non-null int64\n",
      "indicator_code    3667 non-null object\n",
      "sell_date         9366 non-null int64\n",
      "type              9366 non-null object\n",
      "hedge_value       3665 non-null object\n",
      "status            6282 non-null object\n",
      "return            9366 non-null float64\n",
      "dtypes: float64(5), int64(3), object(10)\n",
      "memory usage: 1.3+ MB\n"
     ]
    }
   ],
   "source": [
    "train.info()"
   ]
  },
  {
   "cell_type": "code",
   "execution_count": 5,
   "metadata": {
    "collapsed": false
   },
   "outputs": [],
   "source": [
    "#Drop the Portfolio id Since it will not effect the return rate Just a unique Id of an observation\n",
    "sub_ids = test['portfolio_id']\n",
    "test = test.drop('portfolio_id', axis=1)\n",
    "y = train['return']\n",
    "train = train.drop(['portfolio_id','return'], axis=1)"
   ]
  },
  {
   "cell_type": "code",
   "execution_count": 6,
   "metadata": {
    "collapsed": false
   },
   "outputs": [
    {
     "data": {
      "text/html": [
       "<div>\n",
       "<table border=\"1\" class=\"dataframe\">\n",
       "  <thead>\n",
       "    <tr style=\"text-align: right;\">\n",
       "      <th></th>\n",
       "      <th>desk_id</th>\n",
       "      <th>office_id</th>\n",
       "      <th>pf_category</th>\n",
       "      <th>start_date</th>\n",
       "      <th>sold</th>\n",
       "      <th>country_code</th>\n",
       "      <th>euribor_rate</th>\n",
       "      <th>currency</th>\n",
       "      <th>libor_rate</th>\n",
       "      <th>bought</th>\n",
       "      <th>creation_date</th>\n",
       "      <th>indicator_code</th>\n",
       "      <th>sell_date</th>\n",
       "      <th>type</th>\n",
       "      <th>hedge_value</th>\n",
       "      <th>status</th>\n",
       "    </tr>\n",
       "  </thead>\n",
       "  <tbody>\n",
       "    <tr>\n",
       "      <th>0</th>\n",
       "      <td>DSK00001001</td>\n",
       "      <td>OFF00001002</td>\n",
       "      <td>B</td>\n",
       "      <td>20040720</td>\n",
       "      <td>110000000.0</td>\n",
       "      <td>T</td>\n",
       "      <td>0.02074</td>\n",
       "      <td>USD</td>\n",
       "      <td>2.332216</td>\n",
       "      <td>1.098097e+08</td>\n",
       "      <td>20040720</td>\n",
       "      <td>NaN</td>\n",
       "      <td>20040812</td>\n",
       "      <td>B</td>\n",
       "      <td>NaN</td>\n",
       "      <td>NaN</td>\n",
       "    </tr>\n",
       "    <tr>\n",
       "      <th>1</th>\n",
       "      <td>DSK00001002</td>\n",
       "      <td>OFF00001001</td>\n",
       "      <td>A</td>\n",
       "      <td>20040709</td>\n",
       "      <td>176671000.0</td>\n",
       "      <td>N</td>\n",
       "      <td>0.02074</td>\n",
       "      <td>GBP</td>\n",
       "      <td>5.269617</td>\n",
       "      <td>1.760084e+08</td>\n",
       "      <td>20040723</td>\n",
       "      <td>NaN</td>\n",
       "      <td>20040812</td>\n",
       "      <td>C</td>\n",
       "      <td>NaN</td>\n",
       "      <td>NaN</td>\n",
       "    </tr>\n",
       "    <tr>\n",
       "      <th>2</th>\n",
       "      <td>DSK00001004</td>\n",
       "      <td>OFF00001001</td>\n",
       "      <td>A</td>\n",
       "      <td>20040723</td>\n",
       "      <td>56474000.0</td>\n",
       "      <td>T</td>\n",
       "      <td>0.02074</td>\n",
       "      <td>USD</td>\n",
       "      <td>2.332216</td>\n",
       "      <td>5.637953e+07</td>\n",
       "      <td>20040723</td>\n",
       "      <td>NaN</td>\n",
       "      <td>20040817</td>\n",
       "      <td>A</td>\n",
       "      <td>NaN</td>\n",
       "      <td>NaN</td>\n",
       "    </tr>\n",
       "    <tr>\n",
       "      <th>3</th>\n",
       "      <td>DSK00001005</td>\n",
       "      <td>OFF00001001</td>\n",
       "      <td>A</td>\n",
       "      <td>20040609</td>\n",
       "      <td>164813000.0</td>\n",
       "      <td>T</td>\n",
       "      <td>0.02074</td>\n",
       "      <td>USD</td>\n",
       "      <td>2.332216</td>\n",
       "      <td>1.645088e+08</td>\n",
       "      <td>20040723</td>\n",
       "      <td>NaN</td>\n",
       "      <td>20040713</td>\n",
       "      <td>A</td>\n",
       "      <td>NaN</td>\n",
       "      <td>NaN</td>\n",
       "    </tr>\n",
       "    <tr>\n",
       "      <th>4</th>\n",
       "      <td>DSK00001005</td>\n",
       "      <td>OFF00001002</td>\n",
       "      <td>B</td>\n",
       "      <td>20040609</td>\n",
       "      <td>140800000.0</td>\n",
       "      <td>T</td>\n",
       "      <td>0.02074</td>\n",
       "      <td>USD</td>\n",
       "      <td>2.332216</td>\n",
       "      <td>1.405402e+08</td>\n",
       "      <td>20040723</td>\n",
       "      <td>NaN</td>\n",
       "      <td>20040713</td>\n",
       "      <td>B</td>\n",
       "      <td>NaN</td>\n",
       "      <td>NaN</td>\n",
       "    </tr>\n",
       "  </tbody>\n",
       "</table>\n",
       "</div>"
      ],
      "text/plain": [
       "       desk_id    office_id pf_category  start_date         sold country_code  \\\n",
       "0  DSK00001001  OFF00001002           B    20040720  110000000.0            T   \n",
       "1  DSK00001002  OFF00001001           A    20040709  176671000.0            N   \n",
       "2  DSK00001004  OFF00001001           A    20040723   56474000.0            T   \n",
       "3  DSK00001005  OFF00001001           A    20040609  164813000.0            T   \n",
       "4  DSK00001005  OFF00001002           B    20040609  140800000.0            T   \n",
       "\n",
       "   euribor_rate currency  libor_rate        bought  creation_date  \\\n",
       "0       0.02074      USD    2.332216  1.098097e+08       20040720   \n",
       "1       0.02074      GBP    5.269617  1.760084e+08       20040723   \n",
       "2       0.02074      USD    2.332216  5.637953e+07       20040723   \n",
       "3       0.02074      USD    2.332216  1.645088e+08       20040723   \n",
       "4       0.02074      USD    2.332216  1.405402e+08       20040723   \n",
       "\n",
       "  indicator_code  sell_date type hedge_value status  \n",
       "0            NaN   20040812    B         NaN    NaN  \n",
       "1            NaN   20040812    C         NaN    NaN  \n",
       "2            NaN   20040817    A         NaN    NaN  \n",
       "3            NaN   20040713    A         NaN    NaN  \n",
       "4            NaN   20040713    B         NaN    NaN  "
      ]
     },
     "execution_count": 6,
     "metadata": {},
     "output_type": "execute_result"
    }
   ],
   "source": [
    "train.head()"
   ]
  },
  {
   "cell_type": "code",
   "execution_count": 7,
   "metadata": {
    "collapsed": true
   },
   "outputs": [],
   "source": [
    "# remove some  fields  for simplicity\n",
    "train = train.drop(['start_date', 'creation_date', 'sell_date', 'indicator_code', 'status', 'desk_id'], axis=1)\n",
    "test = test.drop(['start_date', 'creation_date', 'sell_date', 'indicator_code', 'status', 'desk_id'], axis=1)"
   ]
  },
  {
   "cell_type": "code",
   "execution_count": 8,
   "metadata": {
    "collapsed": false
   },
   "outputs": [
    {
     "data": {
      "text/html": [
       "<div>\n",
       "<table border=\"1\" class=\"dataframe\">\n",
       "  <thead>\n",
       "    <tr style=\"text-align: right;\">\n",
       "      <th></th>\n",
       "      <th>office_id</th>\n",
       "      <th>pf_category</th>\n",
       "      <th>sold</th>\n",
       "      <th>country_code</th>\n",
       "      <th>euribor_rate</th>\n",
       "      <th>currency</th>\n",
       "      <th>libor_rate</th>\n",
       "      <th>bought</th>\n",
       "      <th>type</th>\n",
       "      <th>hedge_value</th>\n",
       "    </tr>\n",
       "  </thead>\n",
       "  <tbody>\n",
       "    <tr>\n",
       "      <th>0</th>\n",
       "      <td>OFF00001002</td>\n",
       "      <td>B</td>\n",
       "      <td>110000000.0</td>\n",
       "      <td>T</td>\n",
       "      <td>0.02074</td>\n",
       "      <td>USD</td>\n",
       "      <td>2.332216</td>\n",
       "      <td>1.098097e+08</td>\n",
       "      <td>B</td>\n",
       "      <td>NaN</td>\n",
       "    </tr>\n",
       "    <tr>\n",
       "      <th>1</th>\n",
       "      <td>OFF00001001</td>\n",
       "      <td>A</td>\n",
       "      <td>176671000.0</td>\n",
       "      <td>N</td>\n",
       "      <td>0.02074</td>\n",
       "      <td>GBP</td>\n",
       "      <td>5.269617</td>\n",
       "      <td>1.760084e+08</td>\n",
       "      <td>C</td>\n",
       "      <td>NaN</td>\n",
       "    </tr>\n",
       "    <tr>\n",
       "      <th>2</th>\n",
       "      <td>OFF00001001</td>\n",
       "      <td>A</td>\n",
       "      <td>56474000.0</td>\n",
       "      <td>T</td>\n",
       "      <td>0.02074</td>\n",
       "      <td>USD</td>\n",
       "      <td>2.332216</td>\n",
       "      <td>5.637953e+07</td>\n",
       "      <td>A</td>\n",
       "      <td>NaN</td>\n",
       "    </tr>\n",
       "    <tr>\n",
       "      <th>3</th>\n",
       "      <td>OFF00001001</td>\n",
       "      <td>A</td>\n",
       "      <td>164813000.0</td>\n",
       "      <td>T</td>\n",
       "      <td>0.02074</td>\n",
       "      <td>USD</td>\n",
       "      <td>2.332216</td>\n",
       "      <td>1.645088e+08</td>\n",
       "      <td>A</td>\n",
       "      <td>NaN</td>\n",
       "    </tr>\n",
       "    <tr>\n",
       "      <th>4</th>\n",
       "      <td>OFF00001002</td>\n",
       "      <td>B</td>\n",
       "      <td>140800000.0</td>\n",
       "      <td>T</td>\n",
       "      <td>0.02074</td>\n",
       "      <td>USD</td>\n",
       "      <td>2.332216</td>\n",
       "      <td>1.405402e+08</td>\n",
       "      <td>B</td>\n",
       "      <td>NaN</td>\n",
       "    </tr>\n",
       "  </tbody>\n",
       "</table>\n",
       "</div>"
      ],
      "text/plain": [
       "     office_id pf_category         sold country_code  euribor_rate currency  \\\n",
       "0  OFF00001002           B  110000000.0            T       0.02074      USD   \n",
       "1  OFF00001001           A  176671000.0            N       0.02074      GBP   \n",
       "2  OFF00001001           A   56474000.0            T       0.02074      USD   \n",
       "3  OFF00001001           A  164813000.0            T       0.02074      USD   \n",
       "4  OFF00001002           B  140800000.0            T       0.02074      USD   \n",
       "\n",
       "   libor_rate        bought type hedge_value  \n",
       "0    2.332216  1.098097e+08    B         NaN  \n",
       "1    5.269617  1.760084e+08    C         NaN  \n",
       "2    2.332216  5.637953e+07    A         NaN  \n",
       "3    2.332216  1.645088e+08    A         NaN  \n",
       "4    2.332216  1.405402e+08    B         NaN  "
      ]
     },
     "execution_count": 8,
     "metadata": {},
     "output_type": "execute_result"
    }
   ],
   "source": [
    "train.head()"
   ]
  },
  {
   "cell_type": "code",
   "execution_count": 9,
   "metadata": {
    "collapsed": true
   },
   "outputs": [],
   "source": [
    "#Handle Missing Data \n",
    "\n",
    "#Hedge Value\n",
    "train['hedge_value'].fillna(False, inplace=True)\n",
    "test['hedge_value'].fillna(False, inplace=True)\n",
    "\n",
    "#Missing values for numeric fields by Median \n",
    "train['sold'].fillna(train['sold'].median(), inplace=True)\n",
    "train['bought'].fillna(train['bought'].median(), inplace=True)\n",
    "train['libor_rate'].fillna(train['libor_rate'].median(), inplace=True)\n",
    "test['libor_rate'].fillna(train['libor_rate'].median(), inplace=True)"
   ]
  },
  {
   "cell_type": "code",
   "execution_count": 10,
   "metadata": {
    "collapsed": false
   },
   "outputs": [
    {
     "data": {
      "text/html": [
       "<div>\n",
       "<table border=\"1\" class=\"dataframe\">\n",
       "  <thead>\n",
       "    <tr style=\"text-align: right;\">\n",
       "      <th></th>\n",
       "      <th>office_id</th>\n",
       "      <th>pf_category</th>\n",
       "      <th>sold</th>\n",
       "      <th>country_code</th>\n",
       "      <th>euribor_rate</th>\n",
       "      <th>currency</th>\n",
       "      <th>libor_rate</th>\n",
       "      <th>bought</th>\n",
       "      <th>type</th>\n",
       "      <th>hedge_value</th>\n",
       "    </tr>\n",
       "  </thead>\n",
       "  <tbody>\n",
       "    <tr>\n",
       "      <th>0</th>\n",
       "      <td>OFF00001002</td>\n",
       "      <td>B</td>\n",
       "      <td>110000000.0</td>\n",
       "      <td>T</td>\n",
       "      <td>0.02074</td>\n",
       "      <td>USD</td>\n",
       "      <td>2.332216</td>\n",
       "      <td>1.098097e+08</td>\n",
       "      <td>B</td>\n",
       "      <td>False</td>\n",
       "    </tr>\n",
       "    <tr>\n",
       "      <th>1</th>\n",
       "      <td>OFF00001001</td>\n",
       "      <td>A</td>\n",
       "      <td>176671000.0</td>\n",
       "      <td>N</td>\n",
       "      <td>0.02074</td>\n",
       "      <td>GBP</td>\n",
       "      <td>5.269617</td>\n",
       "      <td>1.760084e+08</td>\n",
       "      <td>C</td>\n",
       "      <td>False</td>\n",
       "    </tr>\n",
       "    <tr>\n",
       "      <th>2</th>\n",
       "      <td>OFF00001001</td>\n",
       "      <td>A</td>\n",
       "      <td>56474000.0</td>\n",
       "      <td>T</td>\n",
       "      <td>0.02074</td>\n",
       "      <td>USD</td>\n",
       "      <td>2.332216</td>\n",
       "      <td>5.637953e+07</td>\n",
       "      <td>A</td>\n",
       "      <td>False</td>\n",
       "    </tr>\n",
       "    <tr>\n",
       "      <th>3</th>\n",
       "      <td>OFF00001001</td>\n",
       "      <td>A</td>\n",
       "      <td>164813000.0</td>\n",
       "      <td>T</td>\n",
       "      <td>0.02074</td>\n",
       "      <td>USD</td>\n",
       "      <td>2.332216</td>\n",
       "      <td>1.645088e+08</td>\n",
       "      <td>A</td>\n",
       "      <td>False</td>\n",
       "    </tr>\n",
       "    <tr>\n",
       "      <th>4</th>\n",
       "      <td>OFF00001002</td>\n",
       "      <td>B</td>\n",
       "      <td>140800000.0</td>\n",
       "      <td>T</td>\n",
       "      <td>0.02074</td>\n",
       "      <td>USD</td>\n",
       "      <td>2.332216</td>\n",
       "      <td>1.405402e+08</td>\n",
       "      <td>B</td>\n",
       "      <td>False</td>\n",
       "    </tr>\n",
       "  </tbody>\n",
       "</table>\n",
       "</div>"
      ],
      "text/plain": [
       "     office_id pf_category         sold country_code  euribor_rate currency  \\\n",
       "0  OFF00001002           B  110000000.0            T       0.02074      USD   \n",
       "1  OFF00001001           A  176671000.0            N       0.02074      GBP   \n",
       "2  OFF00001001           A   56474000.0            T       0.02074      USD   \n",
       "3  OFF00001001           A  164813000.0            T       0.02074      USD   \n",
       "4  OFF00001002           B  140800000.0            T       0.02074      USD   \n",
       "\n",
       "   libor_rate        bought type hedge_value  \n",
       "0    2.332216  1.098097e+08    B       False  \n",
       "1    5.269617  1.760084e+08    C       False  \n",
       "2    2.332216  5.637953e+07    A       False  \n",
       "3    2.332216  1.645088e+08    A       False  \n",
       "4    2.332216  1.405402e+08    B       False  "
      ]
     },
     "execution_count": 10,
     "metadata": {},
     "output_type": "execute_result"
    }
   ],
   "source": [
    "train.head()"
   ]
  },
  {
   "cell_type": "code",
   "execution_count": 11,
   "metadata": {
    "collapsed": true
   },
   "outputs": [],
   "source": [
    "# encode categorical fields\n",
    "obj_cols = [x for x in train.columns if train[x].dtype == 'object']\n",
    "encoder = LabelEncoder()\n",
    "for x in obj_cols:\n",
    "    encoder.fit(train[x])\n",
    "    train[x] = encoder.transform(train[x])\n",
    "    test[x] = encoder.transform(test[x])"
   ]
  },
  {
   "cell_type": "code",
   "execution_count": 12,
   "metadata": {
    "collapsed": false
   },
   "outputs": [
    {
     "data": {
      "text/html": [
       "<div>\n",
       "<table border=\"1\" class=\"dataframe\">\n",
       "  <thead>\n",
       "    <tr style=\"text-align: right;\">\n",
       "      <th></th>\n",
       "      <th>office_id</th>\n",
       "      <th>pf_category</th>\n",
       "      <th>sold</th>\n",
       "      <th>country_code</th>\n",
       "      <th>euribor_rate</th>\n",
       "      <th>currency</th>\n",
       "      <th>libor_rate</th>\n",
       "      <th>bought</th>\n",
       "      <th>type</th>\n",
       "      <th>hedge_value</th>\n",
       "    </tr>\n",
       "  </thead>\n",
       "  <tbody>\n",
       "    <tr>\n",
       "      <th>0</th>\n",
       "      <td>1</td>\n",
       "      <td>1</td>\n",
       "      <td>110000000.0</td>\n",
       "      <td>2</td>\n",
       "      <td>0.02074</td>\n",
       "      <td>4</td>\n",
       "      <td>2.332216</td>\n",
       "      <td>1.098097e+08</td>\n",
       "      <td>1</td>\n",
       "      <td>False</td>\n",
       "    </tr>\n",
       "    <tr>\n",
       "      <th>1</th>\n",
       "      <td>0</td>\n",
       "      <td>0</td>\n",
       "      <td>176671000.0</td>\n",
       "      <td>1</td>\n",
       "      <td>0.02074</td>\n",
       "      <td>2</td>\n",
       "      <td>5.269617</td>\n",
       "      <td>1.760084e+08</td>\n",
       "      <td>2</td>\n",
       "      <td>False</td>\n",
       "    </tr>\n",
       "    <tr>\n",
       "      <th>2</th>\n",
       "      <td>0</td>\n",
       "      <td>0</td>\n",
       "      <td>56474000.0</td>\n",
       "      <td>2</td>\n",
       "      <td>0.02074</td>\n",
       "      <td>4</td>\n",
       "      <td>2.332216</td>\n",
       "      <td>5.637953e+07</td>\n",
       "      <td>0</td>\n",
       "      <td>False</td>\n",
       "    </tr>\n",
       "    <tr>\n",
       "      <th>3</th>\n",
       "      <td>0</td>\n",
       "      <td>0</td>\n",
       "      <td>164813000.0</td>\n",
       "      <td>2</td>\n",
       "      <td>0.02074</td>\n",
       "      <td>4</td>\n",
       "      <td>2.332216</td>\n",
       "      <td>1.645088e+08</td>\n",
       "      <td>0</td>\n",
       "      <td>False</td>\n",
       "    </tr>\n",
       "    <tr>\n",
       "      <th>4</th>\n",
       "      <td>1</td>\n",
       "      <td>1</td>\n",
       "      <td>140800000.0</td>\n",
       "      <td>2</td>\n",
       "      <td>0.02074</td>\n",
       "      <td>4</td>\n",
       "      <td>2.332216</td>\n",
       "      <td>1.405402e+08</td>\n",
       "      <td>1</td>\n",
       "      <td>False</td>\n",
       "    </tr>\n",
       "  </tbody>\n",
       "</table>\n",
       "</div>"
      ],
      "text/plain": [
       "   office_id  pf_category         sold  country_code  euribor_rate  currency  \\\n",
       "0          1            1  110000000.0             2       0.02074         4   \n",
       "1          0            0  176671000.0             1       0.02074         2   \n",
       "2          0            0   56474000.0             2       0.02074         4   \n",
       "3          0            0  164813000.0             2       0.02074         4   \n",
       "4          1            1  140800000.0             2       0.02074         4   \n",
       "\n",
       "   libor_rate        bought  type hedge_value  \n",
       "0    2.332216  1.098097e+08     1       False  \n",
       "1    5.269617  1.760084e+08     2       False  \n",
       "2    2.332216  5.637953e+07     0       False  \n",
       "3    2.332216  1.645088e+08     0       False  \n",
       "4    2.332216  1.405402e+08     1       False  "
      ]
     },
     "execution_count": 12,
     "metadata": {},
     "output_type": "execute_result"
    }
   ],
   "source": [
    "train.head()"
   ]
  },
  {
   "cell_type": "code",
   "execution_count": 13,
   "metadata": {
    "collapsed": false
   },
   "outputs": [
    {
     "name": "stdout",
     "output_type": "stream",
     "text": [
      "<class 'pandas.core.frame.DataFrame'>\n",
      "RangeIndex: 9366 entries, 0 to 9365\n",
      "Data columns (total 10 columns):\n",
      "office_id       9366 non-null int64\n",
      "pf_category     9366 non-null int64\n",
      "sold            9366 non-null float64\n",
      "country_code    9366 non-null int64\n",
      "euribor_rate    9366 non-null float64\n",
      "currency        9366 non-null int64\n",
      "libor_rate      9366 non-null float64\n",
      "bought          9366 non-null float64\n",
      "type            9366 non-null int64\n",
      "hedge_value     9366 non-null bool\n",
      "dtypes: bool(1), float64(4), int64(5)\n",
      "memory usage: 667.8 KB\n"
     ]
    }
   ],
   "source": [
    "train.info()"
   ]
  },
  {
   "cell_type": "code",
   "execution_count": 18,
   "metadata": {
    "collapsed": false
   },
   "outputs": [
    {
     "name": "stdout",
     "output_type": "stream",
     "text": [
      "[-0.99699912  0.97393782  0.89965033  0.38801503  0.81863494]\n",
      "('mean r2:', 0.41664779848853933)\n"
     ]
    }
   ],
   "source": [
    "#Random Forest Code \n",
    "forest_reg = RandomForestRegressor(random_state=7)\n",
    "scores = cross_val_score(forest_reg, train, y, scoring='r2', cv=5)\n",
    "print(scores)\n",
    "print('mean r2:',np.mean(scores))"
   ]
  },
  {
   "cell_type": "code",
   "execution_count": 19,
   "metadata": {
    "collapsed": true
   },
   "outputs": [],
   "source": [
    "#Random Forest Training and Testing of Data\n",
    "forest_reg = RandomForestRegressor(random_state=7)\n",
    "forest_reg.fit(train, y)\n",
    "preds = forest_reg.predict(test)"
   ]
  },
  {
   "cell_type": "code",
   "execution_count": 20,
   "metadata": {
    "collapsed": true
   },
   "outputs": [],
   "source": [
    "resultRandomForest = pd.DataFrame({'portfolio_id': sub_ids, 'return': preds})"
   ]
  },
  {
   "cell_type": "code",
   "execution_count": 21,
   "metadata": {
    "collapsed": false
   },
   "outputs": [
    {
     "data": {
      "text/html": [
       "<div>\n",
       "<table border=\"1\" class=\"dataframe\">\n",
       "  <thead>\n",
       "    <tr style=\"text-align: right;\">\n",
       "      <th></th>\n",
       "      <th>portfolio_id</th>\n",
       "      <th>return</th>\n",
       "    </tr>\n",
       "  </thead>\n",
       "  <tbody>\n",
       "    <tr>\n",
       "      <th>0</th>\n",
       "      <td>PF00001001</td>\n",
       "      <td>0.024482</td>\n",
       "    </tr>\n",
       "    <tr>\n",
       "      <th>1</th>\n",
       "      <td>PF00001004</td>\n",
       "      <td>0.025172</td>\n",
       "    </tr>\n",
       "    <tr>\n",
       "      <th>2</th>\n",
       "      <td>PF00001009</td>\n",
       "      <td>0.025172</td>\n",
       "    </tr>\n",
       "    <tr>\n",
       "      <th>3</th>\n",
       "      <td>PF00001013</td>\n",
       "      <td>0.025172</td>\n",
       "    </tr>\n",
       "    <tr>\n",
       "      <th>4</th>\n",
       "      <td>PF00001014</td>\n",
       "      <td>0.025172</td>\n",
       "    </tr>\n",
       "  </tbody>\n",
       "</table>\n",
       "</div>"
      ],
      "text/plain": [
       "  portfolio_id    return\n",
       "0   PF00001001  0.024482\n",
       "1   PF00001004  0.025172\n",
       "2   PF00001009  0.025172\n",
       "3   PF00001013  0.025172\n",
       "4   PF00001014  0.025172"
      ]
     },
     "execution_count": 21,
     "metadata": {},
     "output_type": "execute_result"
    }
   ],
   "source": [
    "resultRandomForest.head()"
   ]
  },
  {
   "cell_type": "code",
   "execution_count": 25,
   "metadata": {
    "collapsed": false
   },
   "outputs": [
    {
     "name": "stdout",
     "output_type": "stream",
     "text": [
      "[-1.01441597  0.96508098  0.95183333  0.29100437 -0.08865144]\n",
      "('mean r2:', 0.22097025145669241)\n"
     ]
    }
   ],
   "source": [
    "#XGB Regressor\n",
    "regr = xgb.XGBRegressor(colsample_bytree=0.2, gamma=0.0, learning_rate=0.05, max_depth=6, min_child_weight=1.5, n_estimators=7200, reg_alpha=0.9, reg_lambda=0.6, subsample=0.2, seed=42, silent=1)\n",
    "scoreXGB = cross_val_score(regr, train, y, scoring='r2', cv=5)\n",
    "print(scoreXGB)\n",
    "print('mean r2:',np.mean(scoreXGB))\n",
    "regr.fit(train, y)\n",
    "#run prediction on training set to get an idea of how well it does (XGB Regressor)\n",
    "y_pred = regr.predict(test)\n",
    "resultXGBRegressor = pd.DataFrame({'portfolio_id': sub_ids, 'return': y_pred})"
   ]
  },
  {
   "cell_type": "code",
   "execution_count": 26,
   "metadata": {
    "collapsed": false
   },
   "outputs": [
    {
     "data": {
      "text/html": [
       "<div>\n",
       "<table border=\"1\" class=\"dataframe\">\n",
       "  <thead>\n",
       "    <tr style=\"text-align: right;\">\n",
       "      <th></th>\n",
       "      <th>portfolio_id</th>\n",
       "      <th>return</th>\n",
       "    </tr>\n",
       "  </thead>\n",
       "  <tbody>\n",
       "    <tr>\n",
       "      <th>0</th>\n",
       "      <td>PF00001001</td>\n",
       "      <td>0.027446</td>\n",
       "    </tr>\n",
       "    <tr>\n",
       "      <th>1</th>\n",
       "      <td>PF00001004</td>\n",
       "      <td>0.023540</td>\n",
       "    </tr>\n",
       "    <tr>\n",
       "      <th>2</th>\n",
       "      <td>PF00001009</td>\n",
       "      <td>0.027923</td>\n",
       "    </tr>\n",
       "    <tr>\n",
       "      <th>3</th>\n",
       "      <td>PF00001013</td>\n",
       "      <td>0.026664</td>\n",
       "    </tr>\n",
       "    <tr>\n",
       "      <th>4</th>\n",
       "      <td>PF00001014</td>\n",
       "      <td>0.026750</td>\n",
       "    </tr>\n",
       "  </tbody>\n",
       "</table>\n",
       "</div>"
      ],
      "text/plain": [
       "  portfolio_id    return\n",
       "0   PF00001001  0.027446\n",
       "1   PF00001004  0.023540\n",
       "2   PF00001009  0.027923\n",
       "3   PF00001013  0.026664\n",
       "4   PF00001014  0.026750"
      ]
     },
     "execution_count": 26,
     "metadata": {},
     "output_type": "execute_result"
    }
   ],
   "source": [
    "resultXGBRegressor.head()"
   ]
  },
  {
   "cell_type": "code",
   "execution_count": 30,
   "metadata": {
    "collapsed": true
   },
   "outputs": [],
   "source": [
    "#Lasso Regression \n",
    "#best_alpha = 0.0099\n",
    "#Lasso_regr = Lasso(alpha=best_alpha, max_iter=500000)\n",
    "#scoreLasso = cross_val_score(Lasso_regr, train, y, scoring='r2', cv=5)\n",
    "#print(scoreLasso)\n",
    "#print('mean r2:',np.mean(scoreLasso))\n",
    "#regr.fit(train, y)\n",
    "#y_pred = regr.predict(test)\n",
    "#lasso_ex = np.exp(y_pred)\n",
    "#resultLasso = pd.DataFrame({'portfolio_id': sub_ids, 'return': y_pred})"
   ]
  },
  {
   "cell_type": "code",
   "execution_count": 31,
   "metadata": {
    "collapsed": true
   },
   "outputs": [],
   "source": [
    "#resultLasso.head()"
   ]
  },
  {
   "cell_type": "code",
   "execution_count": 35,
   "metadata": {
    "collapsed": false
   },
   "outputs": [],
   "source": [
    "#Neural Network\n",
    "#np.random.seed(10)\n",
    "#create Model\n",
    "#define base model\n",
    "#def base_model():\n",
    "#    model = Sequential()\n",
    "#    model.add(Dense(20, input_dim=398, init='normal', activation='relu'))\n",
    "#    model.add(Dense(10, init='normal', activation='relu'))\n",
    "#    model.add(Dense(1, init='normal'))\n",
    "#    model.compile(loss='mean_squared_error', optimizer = 'adam')\n",
    "#    return model\n",
    "\n",
    "#seed = 7\n",
    "#np.random.seed(seed)\n",
    "#scale = StandardScaler()\n",
    "#\n",
    "#X_train = scale.fit_transform(train)\n",
    "#X_test = scale.fit_transform(test)\n",
    "\n",
    "#keras_label = y.as_matrix()\n",
    "#clf = KerasRegressor(build_fn=base_model, nb_epoch=1000, batch_size=5,verbose=0)\n",
    "#scoreClf = cross_val_score(clf, train, y, scoring='r2', cv=5)\n",
    "#print(scoreClf)\n",
    "#print('mean r2:',np.mean(scoreClf))\n",
    "\n",
    "#clf.fit(X_train, keras_label)\n",
    "\n",
    "#make predictions\n",
    "#kpred = clf.predict(X_test) \n",
    "#kpred = np.exp(kpred)\n",
    "#resultNN = pd.DataFrame({'portfolio_id': sub_ids, 'return': kpred})"
   ]
  },
  {
   "cell_type": "code",
   "execution_count": null,
   "metadata": {
    "collapsed": true
   },
   "outputs": [],
   "source": []
  }
 ],
 "metadata": {
  "anaconda-cloud": {},
  "kernelspec": {
   "display_name": "Python [conda env:anaconda2]",
   "language": "python",
   "name": "conda-env-anaconda2-py"
  },
  "language_info": {
   "codemirror_mode": {
    "name": "ipython",
    "version": 2
   },
   "file_extension": ".py",
   "mimetype": "text/x-python",
   "name": "python",
   "nbconvert_exporter": "python",
   "pygments_lexer": "ipython2",
   "version": "2.7.12"
  }
 },
 "nbformat": 4,
 "nbformat_minor": 1
}
